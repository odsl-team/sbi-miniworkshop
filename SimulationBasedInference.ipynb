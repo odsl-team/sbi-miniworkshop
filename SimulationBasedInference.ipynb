{
 "cells": [
  {
   "cell_type": "code",
   "execution_count": 1,
   "id": "678fdd9f",
   "metadata": {},
   "outputs": [],
   "source": [
    "import torch\n",
    "import numpy as np\n",
    "import scipy.stats as sps\n",
    "import matplotlib.pyplot as plt"
   ]
  },
  {
   "cell_type": "code",
   "execution_count": 2,
   "id": "175e0d6f",
   "metadata": {},
   "outputs": [],
   "source": [
    "dist_hypo1 = sps.multivariate_normal([0,0],np.array([[2,0.2],[0.2,1]]))\n",
    "X = dist_hypo1.rvs(size = (10,))\n",
    "\n",
    "def simulator(theta, N = 10):\n",
    "    dist_hypo1 = sps.multivariate_normal(theta,np.array([[2,0.2],[0.2,1]]))\n",
    "    X = torch.FloatTensor(dist_hypo1.rvs(size = (N,)))\n",
    "    return X\n",
    "\n",
    "def true_log_likelihood_ratio(X, theta):\n",
    "    dist_hypo2 = sps.multivariate_normal(theta,np.array([[2,0.2],[0.2,1]]))\n",
    "    return dist_hypo2.logpdf(X).sum(axis = -1) - dist_hypo1.logpdf(X).sum(axis = -1)"
   ]
  },
  {
   "cell_type": "code",
   "execution_count": 3,
   "id": "39e55279",
   "metadata": {},
   "outputs": [
    {
     "data": {
      "image/png": "[encoded data removed]",
      "text/plain": [
       "<Figure size 360x360 with 1 Axes>"
      ]
     },
     "metadata": {
      "needs_background": "light"
     },
     "output_type": "display_data"
    }
   ],
   "source": [
    "grid = np.mgrid[-5:5:51j,-5:5:51j]\n",
    "thetas = np.swapaxes(grid,0,-1).reshape(-1,2)\n",
    "\n",
    "X = simulator([2,2], N = 10)\n",
    "nllr = np.array([-true_log_likelihood_ratio(X,t) for t in thetas])\n",
    "grid_z = nllr.reshape(51,51).T\n",
    "plt.contour(grid[0],grid[1], grid_z - grid_z.min(), levels = [0,1,4,9])\n",
    "plt.gcf().set_size_inches(5,5)"
   ]
  },
  {
   "cell_type": "code",
   "execution_count": 104,
   "id": "556e6815",
   "metadata": {},
   "outputs": [
    {
     "name": "stderr",
     "output_type": "stream",
     "text": [
      "/var/folders/hn/y10jq2sn3cs3wnqv65l2rc040000gn/T/ipykernel_69490/577355997.py:16: UserWarning: To copy construct from a tensor, it is recommended to use sourceTensor.clone().detach() or sourceTensor.clone().detach().requires_grad_(True), rather than torch.tensor(sourceTensor).\n",
      "  theta_cols = torch.ones(X.shape[0],1)*torch.tensor(theta)\n"
     ]
    },
    {
     "name": "stdout",
     "output_type": "stream",
     "text": [
      "0.7307738065719604 tensor([-2.2296,  2.6770])\n",
      "0.42677322030067444 tensor([-0.4010, -2.1199])\n",
      "0.31618884205818176 tensor([ 0.6400, -2.1653])\n",
      "0.11540721356868744 tensor([ 2.6744, -2.6860])\n",
      "0.33912453055381775 tensor([2.9047, 1.0208])\n",
      "0.5983898043632507 tensor([-1.3844,  0.4458])\n",
      "0.5828006863594055 tensor([ 0.2956, -0.9672])\n",
      "0.2861905097961426 tensor([-0.2395,  2.2018])\n",
      "0.2252758890390396 tensor([-1.2478, -2.7299])\n",
      "0.31601226329803467 tensor([ 1.4051, -1.9549])\n",
      "0.17281831800937653 tensor([-0.9609,  2.7089])\n",
      "0.6040951013565063 tensor([-0.5856, -0.9640])\n",
      "0.1972120702266693 tensor([1.6161, 2.6609])\n",
      "0.3866923153400421 tensor([-1.8585,  1.1358])\n",
      "0.3192443549633026 tensor([-0.4490, -2.2246])\n",
      "0.37083008885383606 tensor([1.5957, 1.6919])\n",
      "0.3060976564884186 tensor([-2.1864,  1.4814])\n",
      "0.27830708026885986 tensor([0.7025, 2.5109])\n",
      "0.16201743483543396 tensor([ 2.8468, -2.4704])\n",
      "0.1846662163734436 tensor([-2.1694, -2.5754])\n"
     ]
    }
   ],
   "source": [
    "def label_as(Xa,Xb, label_a, label_b):\n",
    "    ya = label_a * torch.ones((Xa.shape[0],1))\n",
    "    yb = label_b * torch.ones((Xb.shape[0],1))\n",
    "\n",
    "    X = torch.concat([Xa,Xb])\n",
    "    y = torch.concat([ya,yb])\n",
    "    return X,y\n",
    "\n",
    "def prep_data(theta, N = 123):\n",
    "    Xa = simulator([0,0], N = N)\n",
    "    Xb = simulator(theta, N = N)\n",
    "    X,y = label_as(Xa,Xb,0,1)\n",
    "    return X,y\n",
    "\n",
    "def parametrize_input(X, theta):\n",
    "    theta_cols = torch.ones(X.shape[0],1)*torch.tensor(theta)\n",
    "    return torch.cat([X,theta_cols],dim = -1)\n",
    "\n",
    "def train():\n",
    "    model = torch.nn.Sequential(\n",
    "        torch.nn.Linear(2 + 2,128),\n",
    "        torch.nn.ReLU(),\n",
    "        torch.nn.Linear(128,128),\n",
    "        torch.nn.ReLU(),\n",
    "        torch.nn.Linear(128,128),\n",
    "        torch.nn.ReLU(),\n",
    "        torch.nn.Linear(128,1),\n",
    "        torch.nn.Sigmoid()\n",
    "    )\n",
    "    opt = torch.optim.Adam(model.parameters(), lr = 1e-3)\n",
    "\n",
    "    for i in range(20000):\n",
    "        theta = torch.FloatTensor(np.random.uniform(-3,3, size = (2,)))\n",
    "        X,y = prep_data(theta)\n",
    "        X = parametrize_input(X, theta)\n",
    "        pred  = model(X)\n",
    "        loss = torch.nn.functional.binary_cross_entropy(pred,y)\n",
    "        loss.backward()\n",
    "        opt.step()\n",
    "        opt.zero_grad()\n",
    "        if i % 1000 == 0:\n",
    "            print(float(loss),theta)\n",
    "    return model\n",
    "\n",
    "trained_model = train()"
   ]
  },
  {
   "cell_type": "code",
   "execution_count": 105,
   "id": "82b63403",
   "metadata": {},
   "outputs": [
    {
     "name": "stderr",
     "output_type": "stream",
     "text": [
      "/var/folders/hn/y10jq2sn3cs3wnqv65l2rc040000gn/T/ipykernel_69490/577355997.py:16: UserWarning: To copy construct from a tensor, it is recommended to use sourceTensor.clone().detach() or sourceTensor.clone().detach().requires_grad_(True), rather than torch.tensor(sourceTensor).\n",
      "  theta_cols = torch.ones(X.shape[0],1)*torch.tensor(theta)\n"
     ]
    },
    {
     "data": {
      "text/plain": [
       "tensor(107.3941)"
      ]
     },
     "execution_count": 105,
     "metadata": {},
     "output_type": "execute_result"
    }
   ],
   "source": [
    "def eval_data(X, theta):\n",
    "    theta = torch.FloatTensor(theta)\n",
    "    X = parametrize_input(X,theta)\n",
    "    with torch.no_grad():\n",
    "        out = trained_model(X).detach()\n",
    "    a = torch.log(out/(1-out))\n",
    "    return -a.sum()\n",
    "\n",
    "eval_data(X,[2,2])"
   ]
  },
  {
   "cell_type": "code",
   "execution_count": 106,
   "id": "9462c417",
   "metadata": {},
   "outputs": [],
   "source": [
    "def analyze_data(X):\n",
    "    grid = np.mgrid[-4:5:51j,-5:5:51j]\n",
    "    thetas = np.swapaxes(grid,0,-1).reshape(-1,2)\n",
    "\n",
    "    evals = np.array([eval_data(X,t) for t in thetas])\n",
    "    grid_ml = evals.reshape(51,51).T\n",
    "\n",
    "    nllr = np.array([-true_log_likelihood_ratio(X,t) for t in thetas])\n",
    "    grid_truth = nllr.reshape(51,51).T\n",
    "    \n",
    "    ml_result = grid_ml - grid_ml.min()\n",
    "    truth_result = grid_truth - grid_truth.min()\n",
    "    \n",
    "    return ml_result, truth_result\n",
    "\n",
    "\n"
   ]
  },
  {
   "cell_type": "code",
   "execution_count": 107,
   "id": "f7048f94",
   "metadata": {},
   "outputs": [
    {
     "name": "stderr",
     "output_type": "stream",
     "text": [
      "/var/folders/hn/y10jq2sn3cs3wnqv65l2rc040000gn/T/ipykernel_69490/577355997.py:16: UserWarning: To copy construct from a tensor, it is recommended to use sourceTensor.clone().detach() or sourceTensor.clone().detach().requires_grad_(True), rather than torch.tensor(sourceTensor).\n",
      "  theta_cols = torch.ones(X.shape[0],1)*torch.tensor(theta)\n"
     ]
    },
    {
     "data": {
      "image/png": "[encoded data removed]",
      "text/plain": [
       "<Figure size 864x216 with 4 Axes>"
      ]
     },
     "metadata": {
      "needs_background": "light"
     },
     "output_type": "display_data"
    }
   ],
   "source": [
    "\n",
    "f, axarr = plt.subplots(1,4)\n",
    "\n",
    "for ax, N in zip(axarr.ravel(), [5,10,100,200]):\n",
    "    X = simulator([-2,2],N)\n",
    "    ml,tr = analyze_data(X)\n",
    "    ax.contour(grid[0],grid[1], ml, colors = 'maroon', levels = [0,1,4,9])\n",
    "    ax.contour(grid[0],grid[1], tr, colors = 'steelblue', levels = [0,1,4,9])\n",
    "f.set_size_inches(12,3)\n",
    "f.set_tight_layout(True)"
   ]
  },
  {
   "cell_type": "code",
   "execution_count": null,
   "id": "bea054c8",
   "metadata": {},
   "outputs": [],
   "source": []
  },
  {
   "cell_type": "code",
   "execution_count": null,
   "id": "e89476b9",
   "metadata": {},
   "outputs": [],
   "source": []
  }
 ],
 "metadata": {
  "kernelspec": {
   "display_name": "Python 3 (ipykernel)",
   "language": "python",
   "name": "python3"
  },
  "language_info": {
   "codemirror_mode": {
    "name": "ipython",
    "version": 3
   },
   "file_extension": ".py",
   "mimetype": "text/x-python",
   "name": "python",
   "nbconvert_exporter": "python",
   "pygments_lexer": "ipython3",
   "version": "3.9.11"
  }
 },
 "nbformat": 4,
 "nbformat_minor": 5
}
